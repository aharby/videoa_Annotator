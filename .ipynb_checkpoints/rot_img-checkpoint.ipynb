{
 "cells": [
  {
   "cell_type": "code",
   "execution_count": 1,
   "metadata": {},
   "outputs": [],
   "source": [
    "from PIL import Image\n",
    "import os\n",
    "import glob\n"
   ]
  },
  {
   "cell_type": "code",
   "execution_count": 2,
   "metadata": {},
   "outputs": [],
   "source": [
    "class Ui_MainWindow(object):\n",
    "    def setupUi(self, MainWindow):\n",
    "        self.setWindowTitle('Image rotate')\n",
    "        MainWindow.setObjectName(\"MainWindow\")\n",
    "        MainWindow.resize(392, 232)\n",
    "        self.centralwidget = QtWidgets.QWidget(MainWindow)\n",
    "        self.centralwidget.setObjectName(\"centralwidget\")\n",
    "        self.lineEdit = QtWidgets.QLineEdit(self.centralwidget)\n",
    "        self.lineEdit.setGeometry(QtCore.QRect(140, 60, 113, 20))\n",
    "        self.lineEdit.setObjectName(\"lineEdit\")\n",
    "        self.lineEdit_2 = QtWidgets.QLineEdit(self.centralwidget)\n",
    "        self.lineEdit_2.setGeometry(QtCore.QRect(140, 90, 113, 20))\n",
    "        self.lineEdit_2.setObjectName(\"lineEdit_2\")\n",
    "        self.label = QtWidgets.QLabel('dir',self.centralwidget)\n",
    "        self.label.setGeometry(QtCore.QRect(100, 60, 47, 13))\n",
    "        self.label.setObjectName(\"label\")\n",
    "        self.label_2 = QtWidgets.QLabel('ext',self.centralwidget)\n",
    "        self.label_2.setGeometry(QtCore.QRect(100, 90, 47, 13))\n",
    "        self.label_2.setObjectName(\"label_2\")\n",
    "        self.pushButton = QtWidgets.QPushButton('rotat',self.centralwidget)\n",
    "        self.pushButton.setEnabled(False)\n",
    "        self.pushButton.setGeometry(QtCore.QRect(300, 170, 75, 23))\n",
    "        self.pushButton.setObjectName(\"pushButton\")\n",
    "        MainWindow.setCentralWidget(self.centralwidget)\n",
    "        self.statusbar = QtWidgets.QStatusBar(MainWindow)\n",
    "        self.statusbar.setObjectName(\"statusbar\")\n",
    "        MainWindow.setStatusBar(self.statusbar)"
   ]
  },
  {
   "cell_type": "code",
   "execution_count": 3,
   "metadata": {},
   "outputs": [
    {
     "ename": "SystemExit",
     "evalue": "0",
     "output_type": "error",
     "traceback": [
      "An exception has occurred, use %tb to see the full traceback.\n",
      "\u001b[1;31mSystemExit\u001b[0m\u001b[1;31m:\u001b[0m 0\n"
     ]
    },
    {
     "name": "stderr",
     "output_type": "stream",
     "text": [
      "c:\\users\\bibo\\appdata\\local\\programs\\python\\python39\\lib\\site-packages\\IPython\\core\\interactiveshell.py:3426: UserWarning: To exit: use 'exit', 'quit', or Ctrl-D.\n",
      "  warn(\"To exit: use 'exit', 'quit', or Ctrl-D.\", stacklevel=1)\n"
     ]
    }
   ],
   "source": [
    "from PyQt5 import QtCore, QtGui, QtWidgets\n",
    "class MainWindow(QtWidgets.QMainWindow, Ui_MainWindow):\n",
    "    def __init__(self, parent=None):\n",
    "        super(MainWindow, self).__init__(parent)\n",
    "        self.setupUi(self)\n",
    "        self.lineEdit.textChanged.connect(self.on_text_changed)\n",
    "        self.lineEdit_2.textChanged.connect(self.on_text_changed)\n",
    "        self.pushButton.clicked.connect(self.on_click)\n",
    "\n",
    "    @QtCore.pyqtSlot()\n",
    "    def on_text_changed(self):\n",
    "        self.pushButton.setEnabled(bool(self.lineEdit.text()) and bool(self.lineEdit_2.text()))\n",
    "    @QtCore.pyqtSlot()\n",
    "    def on_click(self):\n",
    "        directory= self.lineEdit.text()\n",
    "        ext= self.lineEdit_2.text()\n",
    "        rotate(directory, ext)\n",
    "        QtWidgets.QMessageBox.about(self, \"Image rotate\", \"Done!\")\n",
    "\n",
    "        \n",
    "\n",
    "def rotate(directory, extention):\n",
    "    for file in glob.glob(directory+\"\\\\*.\"+extention):\n",
    "            img= Image.open(file)\n",
    "            img= img.rotate(180)\n",
    "            img.save(file)\n",
    "            \n",
    "        \n",
    "if __name__ == '__main__':\n",
    "    import sys\n",
    "    app = QtWidgets.QApplication(sys.argv)\n",
    "    w = MainWindow()\n",
    "    w.show()\n",
    "    sys.exit(app.exec_())\n",
    "    \n",
    "    "
   ]
  }
 ],
 "metadata": {
  "kernelspec": {
   "display_name": "Python 3",
   "language": "python",
   "name": "python3"
  },
  "language_info": {
   "codemirror_mode": {
    "name": "ipython",
    "version": 3
   },
   "file_extension": ".py",
   "mimetype": "text/x-python",
   "name": "python",
   "nbconvert_exporter": "python",
   "pygments_lexer": "ipython3",
   "version": "3.9.0"
  }
 },
 "nbformat": 4,
 "nbformat_minor": 4
}
