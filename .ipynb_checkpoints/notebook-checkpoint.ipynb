{
 "cells": [
  {
   "cell_type": "code",
   "execution_count": 1,
   "metadata": {},
   "outputs": [
    {
     "ename": "SystemExit",
     "evalue": "0",
     "output_type": "error",
     "traceback": [
      "An exception has occurred, use %tb to see the full traceback.\n",
      "\u001b[1;31mSystemExit\u001b[0m\u001b[1;31m:\u001b[0m 0\n"
     ]
    },
    {
     "name": "stderr",
     "output_type": "stream",
     "text": [
      "c:\\users\\bibo\\appdata\\local\\programs\\python\\python39\\lib\\site-packages\\IPython\\core\\interactiveshell.py:3426: UserWarning: To exit: use 'exit', 'quit', or Ctrl-D.\n",
      "  warn(\"To exit: use 'exit', 'quit', or Ctrl-D.\", stacklevel=1)\n"
     ]
    }
   ],
   "source": [
    "from PyQt5.QtWidgets import QApplication\n",
    "import sys\n",
    "\n",
    "\n",
    "\n",
    "\n",
    "from mainWindow import VideoWindow\n",
    "\n",
    "if __name__ == '__main__':\n",
    "    app = QApplication(sys.argv)\n",
    "    player = VideoWindow()\n",
    "    player.resize(640, 480)\n",
    "    player.show()\n",
    "    sys.exit(app.exec_())"
   ]
  },
  {
   "cell_type": "code",
   "execution_count": 7,
   "metadata": {},
   "outputs": [
    {
     "name": "stdout",
     "output_type": "stream",
     "text": [
      "C:\\Users\\bibo\\Desktop\\Driver_Assistant\\vtron\\familiar_driver\\agressive\\face_view\\GOPR0283_0_to_60s.MP4_shifted.mp4\n"
     ]
    }
   ],
   "source": [
    "import wave, numpy, subprocess, os\n",
    "\n",
    "from scipy import signal\n",
    "\n",
    "\n",
    "\n",
    "class Sync:\n",
    "    \n",
    "    def __init__(self, reference_beep_video, face_video ):\n",
    "        self.ref_vid = reference_beep_video\n",
    "        self.face_vid = face_video\n",
    "        \n",
    "        self.filtered_beep = self.convert_to_wavFile_and_filter(self.ref_vid)\n",
    "        self.filtered_facecam = self.convert_to_wavFile_and_filter(self.face_vid)\n",
    "\n",
    "        self.crop_file(self.filtered_beep, self.filtered_facecam, self.face_vid)\n",
    "            \n",
    "            #a new file is created with everything before the beep sound cropped out\n",
    "\n",
    "#To make a synchronization effect. Take this new cropped video of the facecam, play it together with the corresponding 360 camera\n",
    "#because the 360 camera is already synced with the data set. Only the facecam is out of sync.\n",
    "\n",
    "\n",
    "\n",
    "    def convert_to_wavFile_and_filter(self, processed_video_file):\n",
    "        #http://ffmpeg.org/ffmpeg.html\n",
    "        #ffmpeg install guide: https://www.youtube.com/watch?v=r1AtmY-RMyQ 2:33 minute onwards\n",
    "        command = f\"ffmpeg -y -i {processed_video_file} -ac 2 -ar 44100 -vn {processed_video_file}_waveform.wav\" #generate .wav file from video file\n",
    "        #-y :: answer yes / -n :: answer no. Answer 'yes' to confirm for overwrite\n",
    "        #-i :: input file\n",
    "        #-ac :: number of audio channels\n",
    "        #-ar :: audio sampling frequency\n",
    "        #-vn :: blocks all video streams\n",
    "        subprocess.call(command, shell=True)\n",
    "\n",
    "        #https://stackoverflow.com/questions/16778878/python-write-a-wav-file-into-numpy-float-array/16779030\n",
    "        #line 23 to 35 :: answer by user \"Matthew Walker\" (https://stackoverflow.com/users/562930/matthew-walker)\n",
    "\n",
    "        #read file to get buffer                                                                                               \n",
    "        inputfile = wave.open(f\"{processed_video_file}_waveform.wav\")\n",
    "        #inputfile_01 = wave.open(f\"{reference_sound}\")\n",
    "        samples = inputfile.getnframes()\n",
    "        audio = inputfile.readframes(samples) #convert .wav files into readable integers\n",
    "\n",
    "        #convert buffer to float32 using numpy                                                                                 \n",
    "        audio_as_np_int16 = numpy.frombuffer(audio, dtype=numpy.int16)\n",
    "        audio_as_np_float32 = audio_as_np_int16.astype(numpy.float32)\n",
    "\n",
    "        #normalise float32 array so that values are between -1 and +1                                             \n",
    "        max_int16 = 2**15\n",
    "        audio_normalised = audio_as_np_float32 / max_int16\n",
    "\n",
    "        #use filter of choice. This case uses Butterworth Filter.\n",
    "        #https://docs.scipy.org/doc/scipy/reference/generated/scipy.signal.butter.html\n",
    "        sos = signal.butter(10, [2500,4600], 'bp',fs=samples*0.5 , output='sos') #bandpass filter between 2.5 & 4.6 Hkz\n",
    "        #use sosfiltfilt because second-order-sections is recommended in the instruction manual:\n",
    "        #https://docs.scipy.org/doc/scipy/reference/generated/scipy.signal.filtfilt.html#scipy.signal.filtfilt\n",
    "        audio_filtered = signal.sosfiltfilt(sos, audio_normalised)\n",
    "\n",
    "        return audio_filtered\n",
    "    \n",
    "\n",
    "    \n",
    "    \n",
    "    def crop_file(self, filtered_beep, filtered_facecam, facecam_video):\n",
    "        #https://docs.scipy.org/doc/scipy/reference/generated/scipy.signal.correlate.html\n",
    "        #take the cross correlation of the two audio files\n",
    "        corr = signal.correlate(filtered_beep,filtered_facecam, mode = \"full\")\n",
    "\n",
    "\n",
    "        corr_abs = abs(corr) #take absolute value of entries in 'corr' array\n",
    "\n",
    "        max_index_abs = numpy.argmax(corr_abs) #take the index of maximum absolute value in 'corr' array\n",
    "        #this is the position where the two audio files are most similar\n",
    "\n",
    "        zero_index = len(corr)/2 - 1 #get the 0th index\n",
    "        shift = zero_index - max_index_abs # distance from max_index to zero_index\n",
    "\n",
    "        shift_in_seconds = shift/44000 # (delay in seconds = shift / sampling frequency)\n",
    "        #sampling frequency given in convert_to_wavFile_and_filter -ar {sampling frequency}\n",
    "\n",
    "        absolute_shift = round(abs(shift_in_seconds),3) #round to 3 decimals to put in ffmpeg command\n",
    "\n",
    "\n",
    "        command = \"del *wav\" #remove all .wav files after getting array info from .wav files\n",
    "        os.system(command)\n",
    "\n",
    "        command = f\"ffmpeg -y -ss {absolute_shift} -i {facecam_video} -c: copy {facecam_video}_shifted.mp4\"\n",
    "        #crop everything before the beeping sound out, return the cropped video file\n",
    "        #-c copy :: copy the encoder of input file => do not re-encode the video, it takes alot of time\n",
    "        subprocess.call(command, shell=True)\n",
    "        \n",
    "        self.synced_video= facecam_video+'_shifted.mp4'\n",
    "\n",
    "    def get_synced_video:\n",
    "        return self.synced_video\n",
    "\n"
   ]
  },
  {
   "cell_type": "code",
   "execution_count": null,
   "metadata": {},
   "outputs": [],
   "source": []
  },
  {
   "cell_type": "code",
   "execution_count": null,
   "metadata": {},
   "outputs": [],
   "source": []
  }
 ],
 "metadata": {
  "kernelspec": {
   "display_name": "Python 3",
   "language": "python",
   "name": "python3"
  },
  "language_info": {
   "codemirror_mode": {
    "name": "ipython",
    "version": 3
   },
   "file_extension": ".py",
   "mimetype": "text/x-python",
   "name": "python",
   "nbconvert_exporter": "python",
   "pygments_lexer": "ipython3",
   "version": "3.9.0"
  }
 },
 "nbformat": 4,
 "nbformat_minor": 4
}
