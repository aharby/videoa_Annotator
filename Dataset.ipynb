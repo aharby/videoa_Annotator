{
 "cells": [
  {
   "cell_type": "code",
   "execution_count": null,
   "metadata": {},
   "outputs": [],
   "source": [
    "class Dataset:\n",
    "    def __init__(self, mainWindow):\n",
    "        \n",
    "        self.mainWindow= mainWindow\n",
    "        \n",
    "        self.fileName = ''\n",
    "        \n",
    "        \n",
    "        \n",
    "\n",
    "    def openFile(self):\n",
    "    fileName, _ = QFileDialog.getOpenFileName(self.mainWindow, \"Open Excel\",\n",
    "            QDir.homePath())\n",
    "\n",
    "    if fileName != '':\n",
    "        self.fileName= fileName\n",
    "        self.dataFrame=  pd.read_excel('Familiar_Driver_Aggressive.xlsx',skiprows=6,engine=\"openpyxl\")\n",
    "\n",
    "            \n",
    "    def showParameter(self):\n",
    "        "
   ]
  }
 ],
 "metadata": {
  "kernelspec": {
   "display_name": "Python 3",
   "language": "python",
   "name": "python3"
  },
  "language_info": {
   "codemirror_mode": {
    "name": "ipython",
    "version": 3
   },
   "file_extension": ".py",
   "mimetype": "text/x-python",
   "name": "python",
   "nbconvert_exporter": "python",
   "pygments_lexer": "ipython3",
   "version": "3.9.0"
  }
 },
 "nbformat": 4,
 "nbformat_minor": 4
}
